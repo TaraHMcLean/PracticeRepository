{
 "cells": [
  {
   "cell_type": "code",
   "execution_count": 20,
   "id": "603a6210-f96b-4042-96c3-d32eb6082673",
   "metadata": {},
   "outputs": [],
   "source": [
    "import pandas as pd\n",
    "import io, requests\n",
    "import geopandas as gpd"
   ]
  },
  {
   "cell_type": "code",
   "execution_count": null,
   "id": "f6709919-a7ed-4894-ba94-821ab293e433",
   "metadata": {},
   "outputs": [],
   "source": [
    "carabids = pd.read_csv('data3/new/carabids.csv')"
   ]
  },
  {
   "cell_type": "code",
   "execution_count": 13,
   "id": "ee98aeb9-1b46-4b80-9e14-8b5a470805f7",
   "metadata": {},
   "outputs": [],
   "source": [
    "from shapely import wkt"
   ]
  },
  {
   "cell_type": "code",
   "execution_count": null,
   "id": "37788387-02e2-4014-ab1a-62c5f3359c0d",
   "metadata": {},
   "outputs": [],
   "source": [
    "carabids['geometry'] = carabids['geometry'].apply(wkt.loads)\n",
    "gdf = gpd.GeoDataFrame(carabids, crs='epsg:27700')"
   ]
  }
 ],
 "metadata": {
  "kernelspec": {
   "display_name": "Python 3 (ipykernel)",
   "language": "python",
   "name": "python3"
  },
  "language_info": {
   "codemirror_mode": {
    "name": "ipython",
    "version": 3
   },
   "file_extension": ".py",
   "mimetype": "text/x-python",
   "name": "python",
   "nbconvert_exporter": "python",
   "pygments_lexer": "ipython3",
   "version": "3.10.9"
  }
 },
 "nbformat": 4,
 "nbformat_minor": 5
}

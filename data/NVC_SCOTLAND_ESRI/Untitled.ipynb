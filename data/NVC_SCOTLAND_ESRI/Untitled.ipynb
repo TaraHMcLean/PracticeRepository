{
 "cells": [
  {
   "cell_type": "code",
   "execution_count": 1,
   "id": "579cd12c-bf70-4965-a80b-d6547710fabd",
   "metadata": {},
   "outputs": [
    {
     "name": "stderr",
     "output_type": "stream",
     "text": [
      "C:\\Users\\hella_rfpb\\AppData\\Local\\Temp\\ipykernel_26460\\1045696251.py:5: UserWarning: Shapely 2.0 is installed, but because PyGEOS is also installed, GeoPandas will still use PyGEOS by default for now. To force to use and test Shapely 2.0, you have to set the environment variable USE_PYGEOS=0. You can do this before starting the Python process, or in your code before importing geopandas:\n",
      "\n",
      "import os\n",
      "os.environ['USE_PYGEOS'] = '0'\n",
      "import geopandas\n",
      "\n",
      "In a future release, GeoPandas will switch to using Shapely by default. If you are using PyGEOS directly (calling PyGEOS functions on geometries from GeoPandas), this will then stop working and you are encouraged to migrate from PyGEOS to Shapely 2.0 (https://shapely.readthedocs.io/en/latest/migration_pygeos.html).\n",
      "  import geopandas as gpd\n"
     ]
    }
   ],
   "source": [
    "import numpy as np\n",
    "import pandas as pd\n",
    "import matplotlib.pyplot as plt\n",
    "%matplotlib inline\n",
    "import geopandas as gpd\n",
    "import contextily as ctx\n",
    "import rasterio as rio\n",
    "from rasterio import plot\n",
    "\n",
    "pip install earthpy \n",
    "\n",
    "from math import radians, cos, sin, asin, sqrt, atan\n",
    "from math import *\n",
    "\n",
    "import earthpy as et\n",
    "import earthpy.spatial as es\n",
    "import earthpy.plot as ep\n",
    "import matplotlib.pyplot as plt\n",
    "import rioxarray as rxr"
   ]
  },
  {
   "cell_type": "code",
   "execution_count": 6,
   "id": "b8ca58bb-6a11-4131-9ba2-1a8795a41841",
   "metadata": {},
   "outputs": [
    {
     "name": "stdout",
     "output_type": "stream",
     "text": [
      "Requirement already satisfied: earthpy in c:\\users\\hella_rfpb\\miniconda3\\envs\\py4sa\\lib\\site-packages (0.9.4)\n",
      "Requirement already satisfied: matplotlib>=2.0.0 in c:\\users\\hella_rfpb\\miniconda3\\envs\\py4sa\\lib\\site-packages (from earthpy) (3.6.3)\n",
      "Requirement already satisfied: scikit-image in c:\\users\\hella_rfpb\\miniconda3\\envs\\py4sa\\lib\\site-packages (from earthpy) (0.20.0)\n",
      "Requirement already satisfied: requests in c:\\users\\hella_rfpb\\miniconda3\\envs\\py4sa\\lib\\site-packages (from earthpy) (2.28.2)\n",
      "Requirement already satisfied: numpy>=1.14.0 in c:\\users\\hella_rfpb\\miniconda3\\envs\\py4sa\\lib\\site-packages (from earthpy) (1.23.5)\n",
      "Requirement already satisfied: geopandas in c:\\users\\hella_rfpb\\miniconda3\\envs\\py4sa\\lib\\site-packages (from earthpy) (0.12.2)\n",
      "Requirement already satisfied: rasterio in c:\\users\\hella_rfpb\\miniconda3\\envs\\py4sa\\lib\\site-packages (from earthpy) (1.3.4)\n",
      "Requirement already satisfied: cycler>=0.10 in c:\\users\\hella_rfpb\\miniconda3\\envs\\py4sa\\lib\\site-packages (from matplotlib>=2.0.0->earthpy) (0.11.0)\n",
      "Requirement already satisfied: pyparsing>=2.2.1 in c:\\users\\hella_rfpb\\miniconda3\\envs\\py4sa\\lib\\site-packages (from matplotlib>=2.0.0->earthpy) (3.0.9)\n",
      "Requirement already satisfied: contourpy>=1.0.1 in c:\\users\\hella_rfpb\\miniconda3\\envs\\py4sa\\lib\\site-packages (from matplotlib>=2.0.0->earthpy) (1.0.7)\n",
      "Requirement already satisfied: fonttools>=4.22.0 in c:\\users\\hella_rfpb\\miniconda3\\envs\\py4sa\\lib\\site-packages (from matplotlib>=2.0.0->earthpy) (4.39.0)\n",
      "Requirement already satisfied: packaging>=20.0 in c:\\users\\hella_rfpb\\miniconda3\\envs\\py4sa\\lib\\site-packages (from matplotlib>=2.0.0->earthpy) (23.0)\n",
      "Requirement already satisfied: kiwisolver>=1.0.1 in c:\\users\\hella_rfpb\\miniconda3\\envs\\py4sa\\lib\\site-packages (from matplotlib>=2.0.0->earthpy) (1.4.4)\n",
      "Requirement already satisfied: python-dateutil>=2.7 in c:\\users\\hella_rfpb\\miniconda3\\envs\\py4sa\\lib\\site-packages (from matplotlib>=2.0.0->earthpy) (2.8.2)\n",
      "Requirement already satisfied: pillow>=6.2.0 in c:\\users\\hella_rfpb\\miniconda3\\envs\\py4sa\\lib\\site-packages (from matplotlib>=2.0.0->earthpy) (9.4.0)\n",
      "Requirement already satisfied: pandas>=1.0.0 in c:\\users\\hella_rfpb\\miniconda3\\envs\\py4sa\\lib\\site-packages (from geopandas->earthpy) (1.5.3)\n",
      "Requirement already satisfied: pyproj>=2.6.1.post1 in c:\\users\\hella_rfpb\\miniconda3\\envs\\py4sa\\lib\\site-packages (from geopandas->earthpy) (3.4.1)\n",
      "Requirement already satisfied: fiona>=1.8 in c:\\users\\hella_rfpb\\miniconda3\\envs\\py4sa\\lib\\site-packages (from geopandas->earthpy) (1.9.1)\n",
      "Requirement already satisfied: shapely>=1.7 in c:\\users\\hella_rfpb\\miniconda3\\envs\\py4sa\\lib\\site-packages (from geopandas->earthpy) (2.0.1)\n",
      "Requirement already satisfied: affine in c:\\users\\hella_rfpb\\miniconda3\\envs\\py4sa\\lib\\site-packages (from rasterio->earthpy) (2.4.0)\n",
      "Requirement already satisfied: attrs in c:\\users\\hella_rfpb\\miniconda3\\envs\\py4sa\\lib\\site-packages (from rasterio->earthpy) (22.2.0)\n",
      "Requirement already satisfied: certifi in c:\\users\\hella_rfpb\\miniconda3\\envs\\py4sa\\lib\\site-packages (from rasterio->earthpy) (2022.12.7)\n",
      "Requirement already satisfied: click>=4.0 in c:\\users\\hella_rfpb\\miniconda3\\envs\\py4sa\\lib\\site-packages (from rasterio->earthpy) (8.1.3)\n",
      "Requirement already satisfied: cligj>=0.5 in c:\\users\\hella_rfpb\\miniconda3\\envs\\py4sa\\lib\\site-packages (from rasterio->earthpy) (0.7.2)\n",
      "Requirement already satisfied: snuggs>=1.4.1 in c:\\users\\hella_rfpb\\miniconda3\\envs\\py4sa\\lib\\site-packages (from rasterio->earthpy) (1.4.7)\n",
      "Requirement already satisfied: click-plugins in c:\\users\\hella_rfpb\\miniconda3\\envs\\py4sa\\lib\\site-packages (from rasterio->earthpy) (1.1.1)\n",
      "Requirement already satisfied: setuptools in c:\\users\\hella_rfpb\\miniconda3\\envs\\py4sa\\lib\\site-packages (from rasterio->earthpy) (67.6.0)\n",
      "Requirement already satisfied: idna<4,>=2.5 in c:\\users\\hella_rfpb\\miniconda3\\envs\\py4sa\\lib\\site-packages (from requests->earthpy) (3.4)\n",
      "Requirement already satisfied: urllib3<1.27,>=1.21.1 in c:\\users\\hella_rfpb\\miniconda3\\envs\\py4sa\\lib\\site-packages (from requests->earthpy) (1.26.14)\n",
      "Requirement already satisfied: charset-normalizer<4,>=2 in c:\\users\\hella_rfpb\\miniconda3\\envs\\py4sa\\lib\\site-packages (from requests->earthpy) (2.1.1)\n",
      "Requirement already satisfied: tifffile>=2019.7.26 in c:\\users\\hella_rfpb\\miniconda3\\envs\\py4sa\\lib\\site-packages (from scikit-image->earthpy) (2023.3.21)\n",
      "Requirement already satisfied: networkx>=2.8 in c:\\users\\hella_rfpb\\miniconda3\\envs\\py4sa\\lib\\site-packages (from scikit-image->earthpy) (3.0)\n",
      "Requirement already satisfied: lazy_loader>=0.1 in c:\\users\\hella_rfpb\\miniconda3\\envs\\py4sa\\lib\\site-packages (from scikit-image->earthpy) (0.2)\n",
      "Requirement already satisfied: scipy>=1.8 in c:\\users\\hella_rfpb\\miniconda3\\envs\\py4sa\\lib\\site-packages (from scikit-image->earthpy) (1.10.0)\n",
      "Requirement already satisfied: PyWavelets>=1.1.1 in c:\\users\\hella_rfpb\\miniconda3\\envs\\py4sa\\lib\\site-packages (from scikit-image->earthpy) (1.4.1)\n",
      "Requirement already satisfied: imageio>=2.4.1 in c:\\users\\hella_rfpb\\miniconda3\\envs\\py4sa\\lib\\site-packages (from scikit-image->earthpy) (2.27.0)\n",
      "Requirement already satisfied: colorama in c:\\users\\hella_rfpb\\miniconda3\\envs\\py4sa\\lib\\site-packages (from click>=4.0->rasterio->earthpy) (0.4.6)\n",
      "Requirement already satisfied: munch>=2.3.2 in c:\\users\\hella_rfpb\\miniconda3\\envs\\py4sa\\lib\\site-packages (from fiona>=1.8->geopandas->earthpy) (2.5.0)\n",
      "Requirement already satisfied: pytz>=2020.1 in c:\\users\\hella_rfpb\\miniconda3\\envs\\py4sa\\lib\\site-packages (from pandas>=1.0.0->geopandas->earthpy) (2022.7.1)\n",
      "Requirement already satisfied: six>=1.5 in c:\\users\\hella_rfpb\\miniconda3\\envs\\py4sa\\lib\\site-packages (from python-dateutil>=2.7->matplotlib>=2.0.0->earthpy) (1.16.0)\n",
      "Note: you may need to restart the kernel to use updated packages.\n"
     ]
    }
   ],
   "source": [
    "pip install earthpy "
   ]
  },
  {
   "cell_type": "code",
   "execution_count": 7,
   "id": "035cdb49-0f71-41a2-b3cc-8ba2b213850f",
   "metadata": {},
   "outputs": [],
   "source": [
    "from math import radians, cos, sin, asin, sqrt, atan\n",
    "from math import *\n",
    "\n",
    "import earthpy as et\n",
    "import earthpy.spatial as es\n",
    "import earthpy.plot as ep\n",
    "import matplotlib.pyplot as plt\n",
    "import rioxarray as rxr"
   ]
  },
  {
   "cell_type": "code",
   "execution_count": 9,
   "id": "6399cc40-dd9b-42fc-b4f5-9ba0f229b881",
   "metadata": {},
   "outputs": [
    {
     "name": "stdout",
     "output_type": "stream",
     "text": [
      "Unexpected exception formatting exception. Falling back to standard exception\n"
     ]
    },
    {
     "name": "stderr",
     "output_type": "stream",
     "text": [
      "Traceback (most recent call last):\n",
      "  File \"fiona\\ogrext.pyx\", line 136, in fiona.ogrext.gdal_open_vector\n",
      "  File \"fiona\\_err.pyx\", line 291, in fiona._err.exc_wrap_pointer\n",
      "fiona._err.CPLE_OpenFailedError: data/NVC_SCOTLAND_ESRI/GCR_SCOTLAND.shp: No such file or directory\n",
      "\n",
      "During handling of the above exception, another exception occurred:\n",
      "\n",
      "Traceback (most recent call last):\n",
      "  File \"C:\\Users\\hella_rfpb\\miniconda3\\envs\\py4sa\\lib\\site-packages\\IPython\\core\\interactiveshell.py\", line 3460, in run_code\n",
      "    exec(code_obj, self.user_global_ns, self.user_ns)\n",
      "  File \"C:\\Users\\hella_rfpb\\AppData\\Local\\Temp\\ipykernel_26460\\2358342186.py\", line 1, in <module>\n",
      "    veg = gpd.read_file('data/NVC_SCOTLAND_ESRI/GCR_SCOTLAND.shp')\n",
      "  File \"C:\\Users\\hella_rfpb\\miniconda3\\envs\\py4sa\\lib\\site-packages\\geopandas\\io\\file.py\", line 259, in _read_file\n",
      "    return _read_file_fiona(\n",
      "  File \"C:\\Users\\hella_rfpb\\miniconda3\\envs\\py4sa\\lib\\site-packages\\geopandas\\io\\file.py\", line 303, in _read_file_fiona\n",
      "    with reader(path_or_bytes, **kwargs) as features:\n",
      "  File \"C:\\Users\\hella_rfpb\\miniconda3\\envs\\py4sa\\lib\\site-packages\\fiona\\env.py\", line 457, in wrapper\n",
      "    return f(*args, **kwds)\n",
      "  File \"C:\\Users\\hella_rfpb\\miniconda3\\envs\\py4sa\\lib\\site-packages\\fiona\\__init__.py\", line 335, in open\n",
      "    colxn = Collection(\n",
      "  File \"C:\\Users\\hella_rfpb\\miniconda3\\envs\\py4sa\\lib\\site-packages\\fiona\\collection.py\", line 234, in __init__\n",
      "    self.session.start(self, **kwargs)\n",
      "  File \"fiona\\ogrext.pyx\", line 587, in fiona.ogrext.Session.start\n",
      "  File \"fiona\\ogrext.pyx\", line 143, in fiona.ogrext.gdal_open_vector\n",
      "fiona.errors.DriverError: data/NVC_SCOTLAND_ESRI/GCR_SCOTLAND.shp: No such file or directory\n",
      "\n",
      "During handling of the above exception, another exception occurred:\n",
      "\n",
      "Traceback (most recent call last):\n",
      "  File \"C:\\Users\\hella_rfpb\\miniconda3\\envs\\py4sa\\lib\\site-packages\\IPython\\core\\interactiveshell.py\", line 2057, in showtraceback\n",
      "    stb = self.InteractiveTB.structured_traceback(\n",
      "  File \"C:\\Users\\hella_rfpb\\miniconda3\\envs\\py4sa\\lib\\site-packages\\IPython\\core\\ultratb.py\", line 1288, in structured_traceback\n",
      "    return FormattedTB.structured_traceback(\n",
      "  File \"C:\\Users\\hella_rfpb\\miniconda3\\envs\\py4sa\\lib\\site-packages\\IPython\\core\\ultratb.py\", line 1177, in structured_traceback\n",
      "    return VerboseTB.structured_traceback(\n",
      "  File \"C:\\Users\\hella_rfpb\\miniconda3\\envs\\py4sa\\lib\\site-packages\\IPython\\core\\ultratb.py\", line 1049, in structured_traceback\n",
      "    formatted_exceptions += self.format_exception_as_a_whole(etype, evalue, etb, lines_of_context,\n",
      "  File \"C:\\Users\\hella_rfpb\\miniconda3\\envs\\py4sa\\lib\\site-packages\\IPython\\core\\ultratb.py\", line 935, in format_exception_as_a_whole\n",
      "    self.get_records(etb, number_of_lines_of_context, tb_offset) if etb else []\n",
      "  File \"C:\\Users\\hella_rfpb\\miniconda3\\envs\\py4sa\\lib\\site-packages\\IPython\\core\\ultratb.py\", line 1003, in get_records\n",
      "    lines, first = inspect.getsourcelines(etb.tb_frame)\n",
      "  File \"C:\\Users\\hella_rfpb\\miniconda3\\envs\\py4sa\\lib\\inspect.py\", line 1129, in getsourcelines\n",
      "    lines, lnum = findsource(object)\n",
      "  File \"C:\\Users\\hella_rfpb\\miniconda3\\envs\\py4sa\\lib\\inspect.py\", line 958, in findsource\n",
      "    raise OSError('could not get source code')\n",
      "OSError: could not get source code\n"
     ]
    }
   ],
   "source": [
    "veg = gpd.read_file('data/NVC_SCOTLAND_ESRI/GCR_SCOTLAND.shp')"
   ]
  }
 ],
 "metadata": {
  "kernelspec": {
   "display_name": "Python 3 (ipykernel)",
   "language": "python",
   "name": "python3"
  },
  "language_info": {
   "codemirror_mode": {
    "name": "ipython",
    "version": 3
   },
   "file_extension": ".py",
   "mimetype": "text/x-python",
   "name": "python",
   "nbconvert_exporter": "python",
   "pygments_lexer": "ipython3",
   "version": "3.10.9"
  }
 },
 "nbformat": 4,
 "nbformat_minor": 5
}

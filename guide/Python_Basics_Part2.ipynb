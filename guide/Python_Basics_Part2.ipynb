version https://git-lfs.github.com/spec/v1
oid sha256:b06c844f182507109e9790758626725a3d6311961be73f5f42d53061942edafa
size 48507

version https://git-lfs.github.com/spec/v1
oid sha256:375b77572dd4f7a39cda31c5cb2ab62174d40308a187276bfabb4fc425ed47e6
size 11743847

version https://git-lfs.github.com/spec/v1
oid sha256:1142b95312f55caace31a1d15b95756ad72740883fa21398c224a1bbbb95ab32
size 380984

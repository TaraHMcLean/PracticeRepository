version https://git-lfs.github.com/spec/v1
oid sha256:6ed879c0c0981cb57f401cb0a0373566abe309360db51f3fe1b9a06c06fd6c1a
size 41691

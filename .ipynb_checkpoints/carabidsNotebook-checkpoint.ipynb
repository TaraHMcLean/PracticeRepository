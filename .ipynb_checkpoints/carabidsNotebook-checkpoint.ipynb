version https://git-lfs.github.com/spec/v1
oid sha256:eadbb0a55948dfcbd6c39885c4db550d00f819dfa85d90448f151211147c6002
size 16321

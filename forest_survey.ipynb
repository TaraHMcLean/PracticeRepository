{
 "cells": [
  {
   "cell_type": "code",
   "execution_count": 47,
   "id": "3a6fd147-aecd-4fed-b0e5-38d1ace5d266",
   "metadata": {},
   "outputs": [],
   "source": [
    "import numpy as np\n",
    "import pandas as pd\n",
    "import matplotlib.pyplot as plt\n",
    "%matplotlib inline\n",
    "import geopandas as gpd\n",
    "import contextily as ctx\n",
    "import rasterio as rio\n",
    "from rasterio import plot \n",
    "\n",
    "from math import radians, cos, sin, asin, sqrt, atan\n",
    "from math import *\n",
    "\n",
    "import earthpy as et\n",
    "import earthpy.spatial as es\n",
    "import earthpy.plot as ep\n",
    "import matplotlib.pyplot as plt\n",
    "import rioxarray as rxr"
   ]
  },
  {
   "cell_type": "code",
   "execution_count": 49,
   "id": "10dc8bad-34fa-4b3d-80cd-ba05c873a75f",
   "metadata": {},
   "outputs": [
    {
     "name": "stdout",
     "output_type": "stream",
     "text": [
      "Requirement already satisfied: geopandas in c:\\users\\hella_rfpb\\miniconda3\\envs\\py4sa\\lib\\site-packages (0.12.2)\n",
      "Requirement already satisfied: fiona>=1.8 in c:\\users\\hella_rfpb\\miniconda3\\envs\\py4sa\\lib\\site-packages (from geopandas) (1.9.1)\n",
      "Requirement already satisfied: packaging in c:\\users\\hella_rfpb\\miniconda3\\envs\\py4sa\\lib\\site-packages (from geopandas) (23.0)\n",
      "Requirement already satisfied: pyproj>=2.6.1.post1 in c:\\users\\hella_rfpb\\miniconda3\\envs\\py4sa\\lib\\site-packages (from geopandas) (3.4.1)\n",
      "Requirement already satisfied: pandas>=1.0.0 in c:\\users\\hella_rfpb\\miniconda3\\envs\\py4sa\\lib\\site-packages (from geopandas) (1.5.3)\n",
      "Requirement already satisfied: shapely>=1.7 in c:\\users\\hella_rfpb\\miniconda3\\envs\\py4sa\\lib\\site-packages (from geopandas) (2.0.1)\n",
      "Requirement already satisfied: attrs>=19.2.0 in c:\\users\\hella_rfpb\\miniconda3\\envs\\py4sa\\lib\\site-packages (from fiona>=1.8->geopandas) (22.2.0)\n",
      "Requirement already satisfied: certifi in c:\\users\\hella_rfpb\\miniconda3\\envs\\py4sa\\lib\\site-packages (from fiona>=1.8->geopandas) (2022.12.7)\n",
      "Requirement already satisfied: click~=8.0 in c:\\users\\hella_rfpb\\miniconda3\\envs\\py4sa\\lib\\site-packages (from fiona>=1.8->geopandas) (8.1.3)\n",
      "Requirement already satisfied: click-plugins>=1.0 in c:\\users\\hella_rfpb\\miniconda3\\envs\\py4sa\\lib\\site-packages (from fiona>=1.8->geopandas) (1.1.1)\n",
      "Requirement already satisfied: cligj>=0.5 in c:\\users\\hella_rfpb\\miniconda3\\envs\\py4sa\\lib\\site-packages (from fiona>=1.8->geopandas) (0.7.2)\n",
      "Requirement already satisfied: munch>=2.3.2 in c:\\users\\hella_rfpb\\miniconda3\\envs\\py4sa\\lib\\site-packages (from fiona>=1.8->geopandas) (2.5.0)\n",
      "Requirement already satisfied: setuptools in c:\\users\\hella_rfpb\\miniconda3\\envs\\py4sa\\lib\\site-packages (from fiona>=1.8->geopandas) (67.6.0)\n",
      "Requirement already satisfied: pytz>=2020.1 in c:\\users\\hella_rfpb\\miniconda3\\envs\\py4sa\\lib\\site-packages (from pandas>=1.0.0->geopandas) (2022.7.1)\n",
      "Requirement already satisfied: python-dateutil>=2.8.1 in c:\\users\\hella_rfpb\\miniconda3\\envs\\py4sa\\lib\\site-packages (from pandas>=1.0.0->geopandas) (2.8.2)\n",
      "Requirement already satisfied: numpy>=1.21.0 in c:\\users\\hella_rfpb\\miniconda3\\envs\\py4sa\\lib\\site-packages (from pandas>=1.0.0->geopandas) (1.23.5)\n",
      "Requirement already satisfied: colorama in c:\\users\\hella_rfpb\\miniconda3\\envs\\py4sa\\lib\\site-packages (from click~=8.0->fiona>=1.8->geopandas) (0.4.6)\n",
      "Requirement already satisfied: six in c:\\users\\hella_rfpb\\miniconda3\\envs\\py4sa\\lib\\site-packages (from munch>=2.3.2->fiona>=1.8->geopandas) (1.16.0)\n",
      "Note: you may need to restart the kernel to use updated packages.\n"
     ]
    }
   ],
   "source": [
    "pip install geopandas"
   ]
  },
  {
   "cell_type": "code",
   "execution_count": null,
   "id": "84eba277-586d-4e25-b90d-f4904784742a",
   "metadata": {},
   "outputs": [],
   "source": []
  },
  {
   "cell_type": "code",
   "execution_count": null,
   "id": "4d4dfa22-0a87-4f90-8bb1-b4aa0f8fa519",
   "metadata": {
    "tags": []
   },
   "outputs": [],
   "source": [
    "veg = gpd.read_file('data2/NVC_SCOTLAND.shp')\n",
    "print(veg)"
   ]
  },
  {
   "cell_type": "code",
   "execution_count": null,
   "id": "970dc104-8b52-41cf-9531-d353330fe1e4",
   "metadata": {},
   "outputs": [],
   "source": [
    "len(veg)"
   ]
  },
  {
   "cell_type": "code",
   "execution_count": null,
   "id": "a56d3404-1e3e-49e6-aeee-b69bfb52ddb4",
   "metadata": {},
   "outputs": [],
   "source": [
    "print(veg.crs)"
   ]
  },
  {
   "cell_type": "code",
   "execution_count": null,
   "id": "9ac9a376-1a38-4370-8bb4-97f55fbeb7d2",
   "metadata": {
    "tags": []
   },
   "outputs": [],
   "source": [
    "vegExt = gpd.read_file('data2/NVC_SURVEY_COVERAGE.shp')\n",
    "print(vegExt)"
   ]
  },
  {
   "cell_type": "code",
   "execution_count": null,
   "id": "6936c237-1303-432e-af53-40a5be16cc1a",
   "metadata": {},
   "outputs": [],
   "source": [
    "vegExt.explore(column='SURVEYNAME')"
   ]
  },
  {
   "cell_type": "code",
   "execution_count": null,
   "id": "99f76562-ce11-4f10-896e-5512ed1c74e4",
   "metadata": {},
   "outputs": [],
   "source": [
    "veg.explore(column='COMMUN_CAT', cmap='RdYlBu')"
   ]
  },
  {
   "cell_type": "code",
   "execution_count": null,
   "id": "e8b65f2b-badf-4516-a744-7ae48af32ddc",
   "metadata": {},
   "outputs": [],
   "source": [
    "List_Of_Categories_In_Column=list(veg['COMMUN_CAT'].value_counts().index)\n",
    "List_Of_Categories_In_Column"
   ]
  },
  {
   "cell_type": "code",
   "execution_count": 54,
   "id": "ffbcb668-039c-432a-9dc1-1c2c9c4145aa",
   "metadata": {},
   "outputs": [
    {
     "data": {
      "text/html": [
       "<div>\n",
       "<style scoped>\n",
       "    .dataframe tbody tr th:only-of-type {\n",
       "        vertical-align: middle;\n",
       "    }\n",
       "\n",
       "    .dataframe tbody tr th {\n",
       "        vertical-align: top;\n",
       "    }\n",
       "\n",
       "    .dataframe thead th {\n",
       "        text-align: right;\n",
       "    }\n",
       "</style>\n",
       "<table border=\"1\" class=\"dataframe\">\n",
       "  <thead>\n",
       "    <tr style=\"text-align: right;\">\n",
       "      <th></th>\n",
       "      <th>COMMUN_CAT</th>\n",
       "      <th>geometry</th>\n",
       "    </tr>\n",
       "  </thead>\n",
       "  <tbody>\n",
       "    <tr>\n",
       "      <th>0</th>\n",
       "      <td>Mosaic</td>\n",
       "      <td>POLYGON ((363263.406 642788.062, 363278.844 64...</td>\n",
       "    </tr>\n",
       "    <tr>\n",
       "      <th>1</th>\n",
       "      <td>M</td>\n",
       "      <td>POLYGON ((363229.812 642738.687, 363234.812 64...</td>\n",
       "    </tr>\n",
       "    <tr>\n",
       "      <th>2</th>\n",
       "      <td>U</td>\n",
       "      <td>POLYGON ((363390.469 642761.375, 363392.594 64...</td>\n",
       "    </tr>\n",
       "    <tr>\n",
       "      <th>3</th>\n",
       "      <td>Mosaic</td>\n",
       "      <td>POLYGON ((363245.469 642729.625, 363229.687 64...</td>\n",
       "    </tr>\n",
       "    <tr>\n",
       "      <th>4</th>\n",
       "      <td>Mosaic</td>\n",
       "      <td>POLYGON ((318861.656 776719.937, 318862.531 77...</td>\n",
       "    </tr>\n",
       "    <tr>\n",
       "      <th>...</th>\n",
       "      <td>...</td>\n",
       "      <td>...</td>\n",
       "    </tr>\n",
       "    <tr>\n",
       "      <th>215059</th>\n",
       "      <td>W</td>\n",
       "      <td>POLYGON ((151931.797 763252.500, 151961.406 76...</td>\n",
       "    </tr>\n",
       "    <tr>\n",
       "      <th>215060</th>\n",
       "      <td>M</td>\n",
       "      <td>POLYGON ((172996.500 763247.875, 172996.000 76...</td>\n",
       "    </tr>\n",
       "    <tr>\n",
       "      <th>215061</th>\n",
       "      <td>Mosaic</td>\n",
       "      <td>POLYGON ((173977.000 763229.000, 173981.203 76...</td>\n",
       "    </tr>\n",
       "    <tr>\n",
       "      <th>215062</th>\n",
       "      <td>M</td>\n",
       "      <td>POLYGON ((152355.797 763233.625, 152359.797 76...</td>\n",
       "    </tr>\n",
       "    <tr>\n",
       "      <th>215063</th>\n",
       "      <td>M</td>\n",
       "      <td>POLYGON ((173661.297 763227.313, 173661.297 76...</td>\n",
       "    </tr>\n",
       "  </tbody>\n",
       "</table>\n",
       "<p>215064 rows × 2 columns</p>\n",
       "</div>"
      ],
      "text/plain": [
       "       COMMUN_CAT                                           geometry\n",
       "0          Mosaic  POLYGON ((363263.406 642788.062, 363278.844 64...\n",
       "1               M  POLYGON ((363229.812 642738.687, 363234.812 64...\n",
       "2               U  POLYGON ((363390.469 642761.375, 363392.594 64...\n",
       "3          Mosaic  POLYGON ((363245.469 642729.625, 363229.687 64...\n",
       "4          Mosaic  POLYGON ((318861.656 776719.937, 318862.531 77...\n",
       "...           ...                                                ...\n",
       "215059          W  POLYGON ((151931.797 763252.500, 151961.406 76...\n",
       "215060          M  POLYGON ((172996.500 763247.875, 172996.000 76...\n",
       "215061     Mosaic  POLYGON ((173977.000 763229.000, 173981.203 76...\n",
       "215062          M  POLYGON ((152355.797 763233.625, 152359.797 76...\n",
       "215063          M  POLYGON ((173661.297 763227.313, 173661.297 76...\n",
       "\n",
       "[215064 rows x 2 columns]"
      ]
     },
     "execution_count": 54,
     "metadata": {},
     "output_type": "execute_result"
    }
   ],
   "source": [
    "VegLoc = veg.loc[:, ['COMMUN_CAT', 'geometry']]\n",
    "VegLoc"
   ]
  },
  {
   "cell_type": "code",
   "execution_count": null,
   "id": "62a9626f-dfb9-4a02-8216-23ec470cf35b",
   "metadata": {},
   "outputs": [],
   "source": [
    "print(VegLoc.iloc[1,1])"
   ]
  },
  {
   "cell_type": "code",
   "execution_count": null,
   "id": "95cc350e-9f17-47df-95c7-ba5eba61dfc1",
   "metadata": {},
   "outputs": [],
   "source": [
    "VegLoc.explore(column='COMMUN_CAT', cmap='RdYlBu')"
   ]
  },
  {
   "cell_type": "code",
   "execution_count": null,
   "id": "c5a38fca-5645-48e2-a3ff-d391537d8e37",
   "metadata": {},
   "outputs": [],
   "source": [
    "VegLocEx = veg.loc[:, ['geometry']]\n",
    "print(VegLocEx)\n",
    "\n"
   ]
  },
  {
   "cell_type": "code",
   "execution_count": null,
   "id": "ea0e35ef-503a-4dd1-8692-db8cfc7243e1",
   "metadata": {},
   "outputs": [],
   "source": [
    "VegLocSliced = VegLoc.loc [1:5000, :]\n",
    "VegLocSliced "
   ]
  },
  {
   "cell_type": "code",
   "execution_count": null,
   "id": "61d0b2a2-4195-4bbd-873e-5973c9d03d29",
   "metadata": {},
   "outputs": [],
   "source": [
    "VegLocSliced.explore(column='COMMUN_CAT', cmap='RdYlBu')"
   ]
  },
  {
   "cell_type": "code",
   "execution_count": null,
   "id": "9898bdb2-0fc5-423f-9ea4-758119f88c9f",
   "metadata": {},
   "outputs": [],
   "source": [
    "carabids = pd.read_csv('data3/new/carabids.csv')\n",
    "carabids"
   ]
  },
  {
   "cell_type": "code",
   "execution_count": null,
   "id": "5c42b4f5-0f62-474d-94a6-1c8c2b4dd7e7",
   "metadata": {},
   "outputs": [],
   "source": [
    "from shapely import wkt\n"
   ]
  },
  {
   "cell_type": "code",
   "execution_count": null,
   "id": "c961e7c8-0c5b-4512-a500-f49351d9a9bb",
   "metadata": {},
   "outputs": [],
   "source": [
    "carabids['geometry'] = carabids['geometry'].apply(wkt.loads)\n",
    "gdf = gpd.GeoDataFrame(carabids, crs='epsg:27700')"
   ]
  },
  {
   "cell_type": "code",
   "execution_count": 52,
   "id": "70c48700-e505-4fe5-b72a-834f7f50ba30",
   "metadata": {},
   "outputs": [],
   "source": [
    "df = pd.read_csv('data3/new/carabids.csv')"
   ]
  },
  {
   "cell_type": "code",
   "execution_count": 53,
   "id": "85da22f3-fd8a-4899-b715-2bb6855d21af",
   "metadata": {},
   "outputs": [
    {
     "ename": "ValueError",
     "evalue": "GeoDataFrame does not support multiple columns using the geometry column name 'geometry'.",
     "output_type": "error",
     "traceback": [
      "\u001b[1;31m---------------------------------------------------------------------------\u001b[0m",
      "\u001b[1;31mValueError\u001b[0m                                Traceback (most recent call last)",
      "Cell \u001b[1;32mIn[53], line 1\u001b[0m\n\u001b[1;32m----> 1\u001b[0m gdf \u001b[38;5;241m=\u001b[39m \u001b[43mgpd\u001b[49m\u001b[38;5;241;43m.\u001b[39;49m\u001b[43mread_file\u001b[49m\u001b[43m(\u001b[49m\u001b[38;5;124;43m'\u001b[39;49m\u001b[38;5;124;43mdata3/new/carabids.csv\u001b[39;49m\u001b[38;5;124;43m'\u001b[39;49m\u001b[43m)\u001b[49m\n",
      "File \u001b[1;32m~\\miniconda3\\envs\\py4sa\\lib\\site-packages\\geopandas\\io\\file.py:259\u001b[0m, in \u001b[0;36m_read_file\u001b[1;34m(filename, bbox, mask, rows, engine, **kwargs)\u001b[0m\n\u001b[0;32m    256\u001b[0m     path_or_bytes \u001b[38;5;241m=\u001b[39m filename\n\u001b[0;32m    258\u001b[0m \u001b[38;5;28;01mif\u001b[39;00m engine \u001b[38;5;241m==\u001b[39m \u001b[38;5;124m\"\u001b[39m\u001b[38;5;124mfiona\u001b[39m\u001b[38;5;124m\"\u001b[39m:\n\u001b[1;32m--> 259\u001b[0m     \u001b[38;5;28;01mreturn\u001b[39;00m _read_file_fiona(\n\u001b[0;32m    260\u001b[0m         path_or_bytes, from_bytes, bbox\u001b[38;5;241m=\u001b[39mbbox, mask\u001b[38;5;241m=\u001b[39mmask, rows\u001b[38;5;241m=\u001b[39mrows, \u001b[38;5;241m*\u001b[39m\u001b[38;5;241m*\u001b[39mkwargs\n\u001b[0;32m    261\u001b[0m     )\n\u001b[0;32m    262\u001b[0m \u001b[38;5;28;01melif\u001b[39;00m engine \u001b[38;5;241m==\u001b[39m \u001b[38;5;124m\"\u001b[39m\u001b[38;5;124mpyogrio\u001b[39m\u001b[38;5;124m\"\u001b[39m:\n\u001b[0;32m    263\u001b[0m     \u001b[38;5;28;01mreturn\u001b[39;00m _read_file_pyogrio(\n\u001b[0;32m    264\u001b[0m         path_or_bytes, bbox\u001b[38;5;241m=\u001b[39mbbox, mask\u001b[38;5;241m=\u001b[39mmask, rows\u001b[38;5;241m=\u001b[39mrows, \u001b[38;5;241m*\u001b[39m\u001b[38;5;241m*\u001b[39mkwargs\n\u001b[0;32m    265\u001b[0m     )\n",
      "File \u001b[1;32m~\\miniconda3\\envs\\py4sa\\lib\\site-packages\\geopandas\\io\\file.py:360\u001b[0m, in \u001b[0;36m_read_file_fiona\u001b[1;34m(path_or_bytes, from_bytes, bbox, mask, rows, where, **kwargs)\u001b[0m\n\u001b[0;32m    356\u001b[0m     df \u001b[38;5;241m=\u001b[39m pd\u001b[38;5;241m.\u001b[39mDataFrame(\n\u001b[0;32m    357\u001b[0m         [record[\u001b[38;5;124m\"\u001b[39m\u001b[38;5;124mproperties\u001b[39m\u001b[38;5;124m\"\u001b[39m] \u001b[38;5;28;01mfor\u001b[39;00m record \u001b[38;5;129;01min\u001b[39;00m f_filt], columns\u001b[38;5;241m=\u001b[39mcolumns\n\u001b[0;32m    358\u001b[0m     )\n\u001b[0;32m    359\u001b[0m \u001b[38;5;28;01melse\u001b[39;00m:\n\u001b[1;32m--> 360\u001b[0m     df \u001b[38;5;241m=\u001b[39m \u001b[43mGeoDataFrame\u001b[49m\u001b[38;5;241;43m.\u001b[39;49m\u001b[43mfrom_features\u001b[49m\u001b[43m(\u001b[49m\n\u001b[0;32m    361\u001b[0m \u001b[43m        \u001b[49m\u001b[43mf_filt\u001b[49m\u001b[43m,\u001b[49m\u001b[43m \u001b[49m\u001b[43mcrs\u001b[49m\u001b[38;5;241;43m=\u001b[39;49m\u001b[43mcrs\u001b[49m\u001b[43m,\u001b[49m\u001b[43m \u001b[49m\u001b[43mcolumns\u001b[49m\u001b[38;5;241;43m=\u001b[39;49m\u001b[43mcolumns\u001b[49m\u001b[43m \u001b[49m\u001b[38;5;241;43m+\u001b[39;49m\u001b[43m \u001b[49m\u001b[43m[\u001b[49m\u001b[38;5;124;43m\"\u001b[39;49m\u001b[38;5;124;43mgeometry\u001b[39;49m\u001b[38;5;124;43m\"\u001b[39;49m\u001b[43m]\u001b[49m\n\u001b[0;32m    362\u001b[0m \u001b[43m    \u001b[49m\u001b[43m)\u001b[49m\n\u001b[0;32m    363\u001b[0m \u001b[38;5;28;01mfor\u001b[39;00m k \u001b[38;5;129;01min\u001b[39;00m datetime_fields:\n\u001b[0;32m    364\u001b[0m     as_dt \u001b[38;5;241m=\u001b[39m pd\u001b[38;5;241m.\u001b[39mto_datetime(df[k], errors\u001b[38;5;241m=\u001b[39m\u001b[38;5;124m\"\u001b[39m\u001b[38;5;124mignore\u001b[39m\u001b[38;5;124m\"\u001b[39m)\n",
      "File \u001b[1;32m~\\miniconda3\\envs\\py4sa\\lib\\site-packages\\geopandas\\geodataframe.py:643\u001b[0m, in \u001b[0;36mGeoDataFrame.from_features\u001b[1;34m(cls, features, crs, columns)\u001b[0m\n\u001b[0;32m    641\u001b[0m     row\u001b[38;5;241m.\u001b[39mupdate(properties)\n\u001b[0;32m    642\u001b[0m     rows\u001b[38;5;241m.\u001b[39mappend(row)\n\u001b[1;32m--> 643\u001b[0m \u001b[38;5;28;01mreturn\u001b[39;00m \u001b[38;5;28;43mcls\u001b[39;49m\u001b[43m(\u001b[49m\u001b[43mrows\u001b[49m\u001b[43m,\u001b[49m\u001b[43m \u001b[49m\u001b[43mcolumns\u001b[49m\u001b[38;5;241;43m=\u001b[39;49m\u001b[43mcolumns\u001b[49m\u001b[43m,\u001b[49m\u001b[43m \u001b[49m\u001b[43mcrs\u001b[49m\u001b[38;5;241;43m=\u001b[39;49m\u001b[43mcrs\u001b[49m\u001b[43m)\u001b[49m\n",
      "File \u001b[1;32m~\\miniconda3\\envs\\py4sa\\lib\\site-packages\\geopandas\\geodataframe.py:159\u001b[0m, in \u001b[0;36mGeoDataFrame.__init__\u001b[1;34m(self, data, geometry, crs, *args, **kwargs)\u001b[0m\n\u001b[0;32m    150\u001b[0m \u001b[38;5;28;01mif\u001b[39;00m (\n\u001b[0;32m    151\u001b[0m     geometry \u001b[38;5;129;01mis\u001b[39;00m \u001b[38;5;28;01mNone\u001b[39;00m\n\u001b[0;32m    152\u001b[0m     \u001b[38;5;129;01mand\u001b[39;00m \u001b[38;5;28mself\u001b[39m\u001b[38;5;241m.\u001b[39mcolumns\u001b[38;5;241m.\u001b[39mnlevels \u001b[38;5;241m==\u001b[39m \u001b[38;5;241m1\u001b[39m\n\u001b[1;32m   (...)\u001b[0m\n\u001b[0;32m    156\u001b[0m     \u001b[38;5;66;03m# self[\"geometry\"] is a gdf and constructor gets recursively recalled\u001b[39;00m\n\u001b[0;32m    157\u001b[0m     \u001b[38;5;66;03m# by pandas internals trying to access this\u001b[39;00m\n\u001b[0;32m    158\u001b[0m     \u001b[38;5;28;01mif\u001b[39;00m (\u001b[38;5;28mself\u001b[39m\u001b[38;5;241m.\u001b[39mcolumns \u001b[38;5;241m==\u001b[39m \u001b[38;5;124m\"\u001b[39m\u001b[38;5;124mgeometry\u001b[39m\u001b[38;5;124m\"\u001b[39m)\u001b[38;5;241m.\u001b[39msum() \u001b[38;5;241m>\u001b[39m \u001b[38;5;241m1\u001b[39m:\n\u001b[1;32m--> 159\u001b[0m         \u001b[38;5;28;01mraise\u001b[39;00m \u001b[38;5;167;01mValueError\u001b[39;00m(\n\u001b[0;32m    160\u001b[0m             \u001b[38;5;124m\"\u001b[39m\u001b[38;5;124mGeoDataFrame does not support multiple columns \u001b[39m\u001b[38;5;124m\"\u001b[39m\n\u001b[0;32m    161\u001b[0m             \u001b[38;5;124m\"\u001b[39m\u001b[38;5;124musing the geometry column name \u001b[39m\u001b[38;5;124m'\u001b[39m\u001b[38;5;124mgeometry\u001b[39m\u001b[38;5;124m'\u001b[39m\u001b[38;5;124m.\u001b[39m\u001b[38;5;124m\"\u001b[39m\n\u001b[0;32m    162\u001b[0m         )\n\u001b[0;32m    164\u001b[0m     \u001b[38;5;66;03m# only if we have actual geometry values -> call set_geometry\u001b[39;00m\n\u001b[0;32m    165\u001b[0m     \u001b[38;5;28;01mtry\u001b[39;00m:\n",
      "\u001b[1;31mValueError\u001b[0m: GeoDataFrame does not support multiple columns using the geometry column name 'geometry'."
     ]
    }
   ],
   "source": [
    "gdf = gpd.read_file('data3/new/carabids.csv')"
   ]
  }
 ],
 "metadata": {
  "kernelspec": {
   "display_name": "Python 3 (ipykernel)",
   "language": "python",
   "name": "python3"
  },
  "language_info": {
   "codemirror_mode": {
    "name": "ipython",
    "version": 3
   },
   "file_extension": ".py",
   "mimetype": "text/x-python",
   "name": "python",
   "nbconvert_exporter": "python",
   "pygments_lexer": "ipython3",
   "version": "3.10.9"
  }
 },
 "nbformat": 4,
 "nbformat_minor": 5
}

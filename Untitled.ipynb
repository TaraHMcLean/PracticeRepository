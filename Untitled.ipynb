{
 "cells": [
  {
   "cell_type": "code",
   "execution_count": 3,
   "id": "f9f45edd-93aa-4167-9cd4-6d4452ab2d56",
   "metadata": {},
   "outputs": [],
   "source": [
    "from math import radians, cos, sin, asin, sqrt, atan\n",
    "from math import *\n",
    "import numpy as np\n",
    "import pandas as pd"
   ]
  },
  {
   "cell_type": "code",
   "execution_count": 5,
   "id": "83c34446-ffa2-4aa7-a645-2c77782cbb05",
   "metadata": {},
   "outputs": [],
   "source": [
    "import seaborn as sns\n",
    "import matplotlib.pyplot as plt\n",
    "import warnings\n",
    "warnings.filterwarnings('ignore')\n",
    "%matplotlib"
   ]
  },
  {
   "cell_type": "code",
   "execution_count": 8,
   "id": "c005cc36-e3c1-45fc-b27b-abf99e88df28",
   "metadata": {},
   "outputs": [],
   "source": [
    "import geopandas as gpd\n",
    "import contextily as ctx\n",
    "import rasterio as rio\n",
    "from rasterio import plot"
   ]
  },
  {
   "cell_type": "markdown",
   "id": "6729d098-a663-4263-8165-08e9da69433e",
   "metadata": {},
   "source": [
    "Testing National Vegetation Survey Data"
   ]
  },
  {
   "cell_type": "code",
   "execution_count": 14,
   "id": "cee903a4-b639-4e7c-9fea-f7a0581e06d5",
   "metadata": {},
   "outputs": [
    {
     "name": "stdout",
     "output_type": "stream",
     "text": [
      "Unexpected exception formatting exception. Falling back to standard exception\n"
     ]
    },
    {
     "name": "stderr",
     "output_type": "stream",
     "text": [
      "Traceback (most recent call last):\n",
      "  File \"fiona\\ogrext.pyx\", line 136, in fiona.ogrext.gdal_open_vector\n",
      "  File \"fiona\\_err.pyx\", line 291, in fiona._err.exc_wrap_pointer\n",
      "fiona._err.CPLE_OpenFailedError: data/NVC_SCOTLAND_ESRI/GCR_SCOTLAND.shp: No such file or directory\n",
      "\n",
      "During handling of the above exception, another exception occurred:\n",
      "\n",
      "Traceback (most recent call last):\n",
      "  File \"C:\\Users\\hella_rfpb\\miniconda3\\envs\\py4sa\\lib\\site-packages\\IPython\\core\\interactiveshell.py\", line 3460, in run_code\n",
      "    exec(code_obj, self.user_global_ns, self.user_ns)\n",
      "  File \"C:\\Users\\hella_rfpb\\AppData\\Local\\Temp\\ipykernel_15140\\353236726.py\", line 1, in <module>\n",
      "    nvc_surv = gpd.read_file('data/NVC_SCOTLAND_ESRI/GCR_SCOTLAND.shp')\n",
      "  File \"C:\\Users\\hella_rfpb\\miniconda3\\envs\\py4sa\\lib\\site-packages\\geopandas\\io\\file.py\", line 259, in _read_file\n",
      "    return _read_file_fiona(\n",
      "  File \"C:\\Users\\hella_rfpb\\miniconda3\\envs\\py4sa\\lib\\site-packages\\geopandas\\io\\file.py\", line 303, in _read_file_fiona\n",
      "    with reader(path_or_bytes, **kwargs) as features:\n",
      "  File \"C:\\Users\\hella_rfpb\\miniconda3\\envs\\py4sa\\lib\\site-packages\\fiona\\env.py\", line 457, in wrapper\n",
      "    return f(*args, **kwds)\n",
      "  File \"C:\\Users\\hella_rfpb\\miniconda3\\envs\\py4sa\\lib\\site-packages\\fiona\\__init__.py\", line 335, in open\n",
      "    colxn = Collection(\n",
      "  File \"C:\\Users\\hella_rfpb\\miniconda3\\envs\\py4sa\\lib\\site-packages\\fiona\\collection.py\", line 234, in __init__\n",
      "    self.session.start(self, **kwargs)\n",
      "  File \"fiona\\ogrext.pyx\", line 587, in fiona.ogrext.Session.start\n",
      "  File \"fiona\\ogrext.pyx\", line 143, in fiona.ogrext.gdal_open_vector\n",
      "fiona.errors.DriverError: data/NVC_SCOTLAND_ESRI/GCR_SCOTLAND.shp: No such file or directory\n",
      "\n",
      "During handling of the above exception, another exception occurred:\n",
      "\n",
      "Traceback (most recent call last):\n",
      "  File \"C:\\Users\\hella_rfpb\\miniconda3\\envs\\py4sa\\lib\\site-packages\\IPython\\core\\interactiveshell.py\", line 2057, in showtraceback\n",
      "    stb = self.InteractiveTB.structured_traceback(\n",
      "  File \"C:\\Users\\hella_rfpb\\miniconda3\\envs\\py4sa\\lib\\site-packages\\IPython\\core\\ultratb.py\", line 1288, in structured_traceback\n",
      "    return FormattedTB.structured_traceback(\n",
      "  File \"C:\\Users\\hella_rfpb\\miniconda3\\envs\\py4sa\\lib\\site-packages\\IPython\\core\\ultratb.py\", line 1177, in structured_traceback\n",
      "    return VerboseTB.structured_traceback(\n",
      "  File \"C:\\Users\\hella_rfpb\\miniconda3\\envs\\py4sa\\lib\\site-packages\\IPython\\core\\ultratb.py\", line 1049, in structured_traceback\n",
      "    formatted_exceptions += self.format_exception_as_a_whole(etype, evalue, etb, lines_of_context,\n",
      "  File \"C:\\Users\\hella_rfpb\\miniconda3\\envs\\py4sa\\lib\\site-packages\\IPython\\core\\ultratb.py\", line 935, in format_exception_as_a_whole\n",
      "    self.get_records(etb, number_of_lines_of_context, tb_offset) if etb else []\n",
      "  File \"C:\\Users\\hella_rfpb\\miniconda3\\envs\\py4sa\\lib\\site-packages\\IPython\\core\\ultratb.py\", line 1003, in get_records\n",
      "    lines, first = inspect.getsourcelines(etb.tb_frame)\n",
      "  File \"C:\\Users\\hella_rfpb\\miniconda3\\envs\\py4sa\\lib\\inspect.py\", line 1129, in getsourcelines\n",
      "    lines, lnum = findsource(object)\n",
      "  File \"C:\\Users\\hella_rfpb\\miniconda3\\envs\\py4sa\\lib\\inspect.py\", line 958, in findsource\n",
      "    raise OSError('could not get source code')\n",
      "OSError: could not get source code\n"
     ]
    }
   ],
   "source": [
    "nvc_surv = gpd.read_file('data/NVC_SCOTLAND_ESRI/GCR_SCOTLAND.shp')"
   ]
  }
 ],
 "metadata": {
  "kernelspec": {
   "display_name": "Python 3 (ipykernel)",
   "language": "python",
   "name": "python3"
  },
  "language_info": {
   "codemirror_mode": {
    "name": "ipython",
    "version": 3
   },
   "file_extension": ".py",
   "mimetype": "text/x-python",
   "name": "python",
   "nbconvert_exporter": "python",
   "pygments_lexer": "ipython3",
   "version": "3.10.9"
  }
 },
 "nbformat": 4,
 "nbformat_minor": 5
}

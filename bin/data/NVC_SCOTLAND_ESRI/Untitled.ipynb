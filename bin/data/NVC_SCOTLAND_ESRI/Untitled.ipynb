version https://git-lfs.github.com/spec/v1
oid sha256:043ecade11a9f3fdab37f2296f540fda5b79f7a1fbd21276ecee438f78e31da9
size 13861
